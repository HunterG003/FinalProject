{
 "cells": [
  {
   "cell_type": "code",
   "execution_count": null,
   "metadata": {},
   "outputs": [],
   "source": [
    "# Download dataset from kaggle https://www.kaggle.com/datasets/ananaymital/us-used-cars-dataset/download?datasetVersionNumber=1"
   ]
  },
  {
   "cell_type": "code",
   "execution_count": null,
   "metadata": {},
   "outputs": [],
   "source": [
    "# import pandas as pd\n",
    "# import dask.dataframe as dd\n",
    "# # Load the CSV file\n",
    "# file_path = 'used_cars_data.csv'\n",
    "\n",
    "# df = dd.read_csv(file_path, dtype={'bed': 'object',\n",
    "#        'bed_height': 'object',\n",
    "#        'bed_length': 'object',\n",
    "#        'cabin': 'object',\n",
    "#        'sp_id' : 'float64',\n",
    "#        'dealer_zip' : 'object'})\n",
    "# # Compute and print the first few rows of the DataFrame\n",
    "# df.head()"
   ]
  },
  {
   "cell_type": "code",
   "execution_count": 1,
   "metadata": {},
   "outputs": [
    {
     "name": "stderr",
     "output_type": "stream",
     "text": [
      "C:\\Users\\15128\\AppData\\Local\\Temp\\ipykernel_12212\\2344000404.py:6: DtypeWarning: Columns (11) have mixed types. Specify dtype option on import or set low_memory=False.\n",
      "  df = pd.read_csv(file_path)\n"
     ]
    },
    {
     "name": "stdout",
     "output_type": "stream",
     "text": [
      "                       vin back_legroom  bed bed_height bed_length  \\\n",
      "0        ZACNJABB5KPJ92081      35.1 in  NaN        NaN        NaN   \n",
      "1        SALCJ2FX1LH858117      38.1 in  NaN        NaN        NaN   \n",
      "2        JF1VA2M67G9829723      35.4 in  NaN        NaN        NaN   \n",
      "3        SALRR2RV0L2433391      37.6 in  NaN        NaN        NaN   \n",
      "4        SALCJ2FXXLH862327      38.1 in  NaN        NaN        NaN   \n",
      "...                    ...          ...  ...        ...        ...   \n",
      "3000035  2GNAXJEV0J6261526      39.7 in  NaN        NaN        NaN   \n",
      "3000036  1GNERFKW0LJ225508      38.4 in  NaN        NaN        NaN   \n",
      "3000037  3FA6P0HD3GR134062      38.3 in  NaN        NaN        NaN   \n",
      "3000038  SAJAJ4BNXHA968809        35 in  NaN        NaN        NaN   \n",
      "3000039  JN8AT2MT1HW400805      37.9 in  NaN        NaN        NaN   \n",
      "\n",
      "               body_type cabin       city  city_fuel_economy  \\\n",
      "0        SUV / Crossover   NaN    Bayamon                NaN   \n",
      "1        SUV / Crossover   NaN   San Juan                NaN   \n",
      "2                  Sedan   NaN   Guaynabo               17.0   \n",
      "3        SUV / Crossover   NaN   San Juan                NaN   \n",
      "4        SUV / Crossover   NaN   San Juan                NaN   \n",
      "...                  ...   ...        ...                ...   \n",
      "3000035  SUV / Crossover   NaN  Fairfield               26.0   \n",
      "3000036  SUV / Crossover   NaN    Vallejo               18.0   \n",
      "3000037            Sedan   NaN       Napa                NaN   \n",
      "3000038            Sedan   NaN  Fairfield               30.0   \n",
      "3000039  SUV / Crossover   NaN       Napa               26.0   \n",
      "\n",
      "         combine_fuel_economy  ...  transmission         transmission_display  \\\n",
      "0                         NaN  ...             A  9-Speed Automatic Overdrive   \n",
      "1                         NaN  ...             A  9-Speed Automatic Overdrive   \n",
      "2                         NaN  ...             M               6-Speed Manual   \n",
      "3                         NaN  ...             A  8-Speed Automatic Overdrive   \n",
      "4                         NaN  ...             A  9-Speed Automatic Overdrive   \n",
      "...                       ...  ...           ...                          ...   \n",
      "3000035                   NaN  ...             A                    Automatic   \n",
      "3000036                   NaN  ...             A                    Automatic   \n",
      "3000037                   NaN  ...             A  6-Speed Automatic Overdrive   \n",
      "3000038                   NaN  ...             A                    Automatic   \n",
      "3000039                   NaN  ...             A                    Automatic   \n",
      "\n",
      "         trimId        trim_name  vehicle_damage_category wheel_system  \\\n",
      "0        t83804     Latitude FWD                      NaN          FWD   \n",
      "1        t86759            S AWD                      NaN          AWD   \n",
      "2        t58994             Base                      NaN          AWD   \n",
      "3        t86074       V6 HSE AWD                      NaN          AWD   \n",
      "4        t86759            S AWD                      NaN          AWD   \n",
      "...         ...              ...                      ...          ...   \n",
      "3000035  t72936      1.5T LT FWD                      NaN          FWD   \n",
      "3000036  t85763           LS FWD                      NaN          FWD   \n",
      "3000037  t57569               SE                      NaN          FWD   \n",
      "3000038  t65977  20d Premium AWD                      NaN          AWD   \n",
      "3000039  t76529    2017.5 SV FWD                      NaN          FWD   \n",
      "\n",
      "        wheel_system_display wheelbase    width  year  \n",
      "0          Front-Wheel Drive  101.2 in  79.6 in  2019  \n",
      "1            All-Wheel Drive  107.9 in  85.6 in  2020  \n",
      "2            All-Wheel Drive  104.3 in  78.9 in  2016  \n",
      "3            All-Wheel Drive    115 in  87.4 in  2020  \n",
      "4            All-Wheel Drive  107.9 in  85.6 in  2020  \n",
      "...                      ...       ...      ...   ...  \n",
      "3000035    Front-Wheel Drive  107.3 in  72.6 in  2018  \n",
      "3000036    Front-Wheel Drive  120.9 in  78.6 in  2020  \n",
      "3000037    Front-Wheel Drive  112.2 in  83.5 in  2016  \n",
      "3000038      All-Wheel Drive  111.6 in  81.7 in  2017  \n",
      "3000039    Front-Wheel Drive  106.5 in  72.4 in  2017  \n",
      "\n",
      "[3000040 rows x 66 columns]\n"
     ]
    }
   ],
   "source": [
    "import pandas as pd\n",
    "\n",
    "file_path = 'data/used_cars_data.csv'\n",
    "\n",
    "# Read the CSV file into a DataFrame\n",
    "df = pd.read_csv(file_path)\n",
    "\n",
    "# Now 'df' contains the data from the CSV file\n",
    "print(df)"
   ]
  },
  {
   "cell_type": "code",
   "execution_count": 2,
   "metadata": {},
   "outputs": [],
   "source": [
    "columns_to_drop = ['savings_amount', 'width', 'description', 'engine_type', 'sp_id', 'listing_id',\n",
    "                   'power', 'torque', 'trimId', 'trim_name', 'vehicle_damage_category', 'major_options',\n",
    "                   'main_picture_url', 'length', 'is_oemcpo', 'is_cpo', 'is_certified', 'height',\n",
    "                   'front_legroom', 'fleet', 'combine_fuel_economy', 'cabin', 'bed_length', 'bed_height',\n",
    "                   'bed', 'back_legroom', 'wheelbase']\n",
    "\n",
    "dropped_df = df.drop(columns=columns_to_drop, axis=1)"
   ]
  },
  {
   "cell_type": "code",
   "execution_count": 3,
   "metadata": {},
   "outputs": [
    {
     "name": "stdout",
     "output_type": "stream",
     "text": [
      "<class 'pandas.core.frame.DataFrame'>\n",
      "RangeIndex: 3000040 entries, 0 to 3000039\n",
      "Data columns (total 39 columns):\n",
      " #   Column                Dtype  \n",
      "---  ------                -----  \n",
      " 0   vin                   object \n",
      " 1   body_type             object \n",
      " 2   city                  object \n",
      " 3   city_fuel_economy     float64\n",
      " 4   daysonmarket          int64  \n",
      " 5   dealer_zip            object \n",
      " 6   engine_cylinders      object \n",
      " 7   engine_displacement   float64\n",
      " 8   exterior_color        object \n",
      " 9   frame_damaged         object \n",
      " 10  franchise_dealer      bool   \n",
      " 11  franchise_make        object \n",
      " 12  fuel_tank_volume      object \n",
      " 13  fuel_type             object \n",
      " 14  has_accidents         object \n",
      " 15  highway_fuel_economy  float64\n",
      " 16  horsepower            float64\n",
      " 17  interior_color        object \n",
      " 18  isCab                 object \n",
      " 19  is_new                bool   \n",
      " 20  latitude              float64\n",
      " 21  listed_date           object \n",
      " 22  listing_color         object \n",
      " 23  longitude             float64\n",
      " 24  make_name             object \n",
      " 25  maximum_seating       object \n",
      " 26  mileage               float64\n",
      " 27  model_name            object \n",
      " 28  owner_count           float64\n",
      " 29  price                 float64\n",
      " 30  salvage               object \n",
      " 31  seller_rating         float64\n",
      " 32  sp_name               object \n",
      " 33  theft_title           object \n",
      " 34  transmission          object \n",
      " 35  transmission_display  object \n",
      " 36  wheel_system          object \n",
      " 37  wheel_system_display  object \n",
      " 38  year                  int64  \n",
      "dtypes: bool(2), float64(10), int64(2), object(25)\n",
      "memory usage: 852.6+ MB\n"
     ]
    }
   ],
   "source": [
    "dropped_df.info()                       "
   ]
  },
  {
   "cell_type": "code",
   "execution_count": null,
   "metadata": {},
   "outputs": [],
   "source": [
    "# dropped_df.owner_count = dropped_df.owner_count.fillna(0.0)\n",
    "# dropped_df.theft_title = dropped_df.theft_title.fillna(False)\n",
    "# dropped_df.seller_rating = dropped_df.seller_rating.fillna(0.000000)\n",
    "# dropped_df = dropped_df.dropna(subset=['mileage'])\n",
    "# dropped_df = dropped_df.salvage.fillna(False)"
   ]
  },
  {
   "cell_type": "code",
   "execution_count": null,
   "metadata": {},
   "outputs": [],
   "source": [
    "dropped_df.info()       "
   ]
  },
  {
   "cell_type": "code",
   "execution_count": 4,
   "metadata": {},
   "outputs": [],
   "source": [
    "csv_filename = \"Data/cleaned.csv\"\n",
    "dropped_df.to_csv(csv_filename, index=False)"
   ]
  },
  {
   "cell_type": "code",
   "execution_count": null,
   "metadata": {},
   "outputs": [],
   "source": [
    "# # Load your Dask DataFrame\n",
    "# df = dd.read_csv('used_cars_data.csv')\n",
    "\n",
    "# # Get the first 100 rows of the Dask DataFrame as a pandas DataFrame\n",
    "# test = df.head(100).compute()\n",
    "\n",
    "# # Now you have a pandas DataFrame, and you can work with it as usual\n",
    "# my_df = pd.DataFrame(test)"
   ]
  },
  {
   "cell_type": "code",
   "execution_count": null,
   "metadata": {},
   "outputs": [],
   "source": [
    "# test = df.head(100, npartitions=10)\n",
    "# my_df= pd.DataFrame(test)"
   ]
  },
  {
   "cell_type": "code",
   "execution_count": null,
   "metadata": {},
   "outputs": [],
   "source": [
    "# Get data types of each column in the Dask DataFrame\n",
    "data_types = df.dtypes\n",
    "\n",
    "# Print the data types\n",
    "data_types"
   ]
  },
  {
   "cell_type": "code",
   "execution_count": null,
   "metadata": {},
   "outputs": [],
   "source": [
    "# List all the columns in the DataFrame\n",
    "columns_list = df.columns.tolist()\n",
    "\n",
    "# Print the list of columns\n",
    "print(columns_list)"
   ]
  },
  {
   "cell_type": "code",
   "execution_count": null,
   "metadata": {},
   "outputs": [],
   "source": [
    "for column in columns:\n",
    "    print(column)"
   ]
  }
 ],
 "metadata": {
  "kernelspec": {
   "display_name": "base",
   "language": "python",
   "name": "python3"
  },
  "language_info": {
   "codemirror_mode": {
    "name": "ipython",
    "version": 3
   },
   "file_extension": ".py",
   "mimetype": "text/x-python",
   "name": "python",
   "nbconvert_exporter": "python",
   "pygments_lexer": "ipython3",
   "version": "3.9.13"
  },
  "orig_nbformat": 4
 },
 "nbformat": 4,
 "nbformat_minor": 2
}
