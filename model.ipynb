{
 "cells": [
  {
   "cell_type": "code",
   "execution_count": 1,
   "metadata": {},
   "outputs": [
    {
     "name": "stderr",
     "output_type": "stream",
     "text": [
      "c:\\Users\\15128\\anaconda3\\lib\\site-packages\\dask_xgboost\\__init__.py:7: UserWarning: Dask-XGBoost has been deprecated and is no longer maintained. The functionality of this project has been included directly in XGBoost. To use Dask and XGBoost together, please use ``xgboost.dask`` instead https://xgboost.readthedocs.io/en/latest/tutorials/dask.html.\n",
      "  warnings.warn(\n"
     ]
    }
   ],
   "source": [
    "import dask.dataframe as dd\n",
    "import pandas as pd\n",
    "import numpy as np\n",
    "from dask_ml.xgboost import XGBRegressor\n",
    "from dask_ml.preprocessing import DummyEncoder\n",
    "from sklearn.model_selection import train_test_split\n",
    "from sklearn.metrics import confusion_matrix, f1_score, accuracy_score\n",
    "import pathlib"
   ]
  },
  {
   "cell_type": "code",
   "execution_count": 2,
   "metadata": {},
   "outputs": [],
   "source": [
    "from sklearn.model_selection import train_test_split \n",
    "from sklearn.model_selection import cross_val_score\n",
    "from sklearn.ensemble import RandomForestRegressor\n",
    "from sklearn.pipeline import Pipeline\n",
    "from sklearn.impute import SimpleImputer\n",
    "from sklearn.metrics import mean_absolute_error\n",
    "from sklearn.preprocessing import OneHotEncoder\n",
    "from sklearn.compose import ColumnTransformer\n",
    "from sklearn.metrics import mean_squared_error\n",
    "from xgboost import XGBRegressor"
   ]
  },
  {
   "cell_type": "code",
   "execution_count": 3,
   "metadata": {},
   "outputs": [],
   "source": [
    "data = pd.read_csv('./Data/SUVData.csv')\n",
    "data.drop(columns='Unnamed: 0', axis=1, inplace=True)\n",
    "\n",
    "y = data.price\n",
    "X = data.drop(['price'], axis=1)\n"
   ]
  },
  {
   "cell_type": "code",
   "execution_count": 7,
   "metadata": {},
   "outputs": [
    {
     "name": "stdout",
     "output_type": "stream",
     "text": [
      "<class 'pandas.core.frame.DataFrame'>\n",
      "RangeIndex: 25332 entries, 0 to 25331\n",
      "Data columns (total 39 columns):\n",
      " #   Column                Non-Null Count  Dtype  \n",
      "---  ------                --------------  -----  \n",
      " 0   vin                   25332 non-null  object \n",
      " 1   body_type             25332 non-null  object \n",
      " 2   city                  25332 non-null  object \n",
      " 3   city_fuel_economy     25332 non-null  bool   \n",
      " 4   daysonmarket          25332 non-null  int64  \n",
      " 5   dealer_zip            25332 non-null  int64  \n",
      " 6   engine_cylinders      24784 non-null  object \n",
      " 7   engine_displacement   24165 non-null  float64\n",
      " 8   exterior_color        25332 non-null  object \n",
      " 9   frame_damaged         25332 non-null  bool   \n",
      " 10  franchise_dealer      25332 non-null  bool   \n",
      " 11  franchise_make        25332 non-null  object \n",
      " 12  fuel_tank_volume      25332 non-null  object \n",
      " 13  fuel_type             25332 non-null  object \n",
      " 14  has_accidents         25332 non-null  bool   \n",
      " 15  highway_fuel_economy  25332 non-null  bool   \n",
      " 16  horsepower            24165 non-null  float64\n",
      " 17  interior_color        25332 non-null  object \n",
      " 18  isCab                 25332 non-null  bool   \n",
      " 19  is_new                25332 non-null  bool   \n",
      " 20  latitude              25332 non-null  float64\n",
      " 21  listed_date           25332 non-null  object \n",
      " 22  listing_color         25332 non-null  object \n",
      " 23  longitude             25332 non-null  float64\n",
      " 24  make_name             25332 non-null  object \n",
      " 25  maximum_seating       25332 non-null  object \n",
      " 26  mileage               21243 non-null  float64\n",
      " 27  model_name            25332 non-null  object \n",
      " 28  owner_count           13461 non-null  float64\n",
      " 29  price                 25332 non-null  float64\n",
      " 30  salvage               25332 non-null  bool   \n",
      " 31  seller_rating         25332 non-null  float64\n",
      " 32  sp_name               25332 non-null  object \n",
      " 33  theft_title           25332 non-null  bool   \n",
      " 34  transmission          25332 non-null  object \n",
      " 35  transmission_display  25332 non-null  object \n",
      " 36  wheel_system          25332 non-null  object \n",
      " 37  wheel_system_display  25332 non-null  object \n",
      " 38  year                  25332 non-null  int64  \n",
      "dtypes: bool(9), float64(8), int64(3), object(19)\n",
      "memory usage: 6.0+ MB\n"
     ]
    }
   ],
   "source": [
    "data.info()"
   ]
  },
  {
   "cell_type": "code",
   "execution_count": 4,
   "metadata": {},
   "outputs": [],
   "source": [
    "X_train, X_valid, y_train, y_valid = train_test_split(X, y, train_size=0.8, test_size=0.2)"
   ]
  },
  {
   "cell_type": "code",
   "execution_count": 5,
   "metadata": {},
   "outputs": [],
   "source": [
    "s = (X.dtypes == 'object')\n",
    "object_cols = list(s[s].index)"
   ]
  },
  {
   "cell_type": "code",
   "execution_count": 6,
   "metadata": {},
   "outputs": [
    {
     "data": {
      "text/plain": [
       "0.9186381574952138"
      ]
     },
     "execution_count": 6,
     "metadata": {},
     "output_type": "execute_result"
    }
   ],
   "source": [
    "from sklearn.metrics import r2_score\n",
    "\n",
    "numerical_cols = [cname for cname in X_train.columns if X_train[cname].dtype in ['int64', 'float64']]\n",
    "\n",
    "categorical_cols = [cname for cname in X_train.columns if X_train[cname].nunique() < 10 and \n",
    "                        X_train[cname].dtype == \"object\"]\n",
    "\n",
    "my_cols = categorical_cols + numerical_cols\n",
    "\n",
    "X_train_edit = X_train[my_cols].copy()\n",
    "X_valid_edit = X_valid[my_cols].copy()\n",
    "\n",
    "numerical_transformer = SimpleImputer(strategy='constant')\n",
    "\n",
    "categorical_transformer = Pipeline(steps=[\n",
    "    ('imputer', SimpleImputer(strategy='most_frequent')),\n",
    "    ('onehot', OneHotEncoder(handle_unknown='ignore'))\n",
    "])\n",
    "\n",
    "preprocessor = ColumnTransformer(\n",
    "    transformers=[\n",
    "        ('num', numerical_transformer, numerical_cols),\n",
    "        ('cat', categorical_transformer, categorical_cols)\n",
    "])\n",
    "\n",
    "model = RandomForestRegressor(n_estimators=150, random_state=1)\n",
    "\n",
    "pipeline = Pipeline(steps=[('preprocessor', preprocessor), ('model', model)])\n",
    "\n",
    "pipeline.fit(X_train, y_train)\n",
    "\n",
    "preds = pipeline.predict(X_valid)\n",
    "\n",
    "r2_score(y_valid, preds)"
   ]
  },
  {
   "cell_type": "code",
   "execution_count": 8,
   "metadata": {},
   "outputs": [
    {
     "data": {
      "text/plain": [
       "['SUV_model.pk1']"
      ]
     },
     "execution_count": 8,
     "metadata": {},
     "output_type": "execute_result"
    }
   ],
   "source": [
    "import joblib \n",
    "filename = \"SUV_model.pk1\"\n",
    "joblib.dump(pipeline, filename, compress=1)"
   ]
  },
  {
   "cell_type": "code",
   "execution_count": null,
   "metadata": {},
   "outputs": [],
   "source": []
  }
 ],
 "metadata": {
  "kernelspec": {
   "display_name": "Python 3",
   "language": "python",
   "name": "python3"
  },
  "language_info": {
   "codemirror_mode": {
    "name": "ipython",
    "version": 3
   },
   "file_extension": ".py",
   "mimetype": "text/x-python",
   "name": "python",
   "nbconvert_exporter": "python",
   "pygments_lexer": "ipython3",
   "version": "3.9.13"
  },
  "orig_nbformat": 4
 },
 "nbformat": 4,
 "nbformat_minor": 2
}
