{
 "cells": [
  {
   "cell_type": "code",
   "execution_count": 41,
   "metadata": {
    "ExecuteTime": {
     "end_time": "2023-08-04T00:45:19.539462Z",
     "start_time": "2023-08-04T00:45:19.416304Z"
    }
   },
   "outputs": [],
   "source": [
    "import dask.dataframe as dd\n",
    "import pandas as pd\n",
    "\n",
    "df = dd.read_csv(\"./Data/used_cars_data.csv\", dtype={'bed': 'object',\n",
    "       'bed_height': 'object',\n",
    "       'bed_length': 'object',\n",
    "       'cabin': 'object',\n",
    "       'sp_id' : 'float64',\n",
    "       'dealer_zip' : 'object'})\n"
   ]
  },
  {
   "cell_type": "code",
   "execution_count": 39,
   "metadata": {
    "ExecuteTime": {
     "end_time": "2023-08-04T00:44:25.047535Z",
     "start_time": "2023-08-04T00:44:22.000435Z"
    }
   },
   "outputs": [
    {
     "data": {
      "text/plain": "                 vin back_legroom  bed bed_height bed_length        body_type  \\\n0  ZACNJABB5KPJ92081      35.1 in  NaN        NaN        NaN  SUV / Crossover   \n1  SALCJ2FX1LH858117      38.1 in  NaN        NaN        NaN  SUV / Crossover   \n2  JF1VA2M67G9829723      35.4 in  NaN        NaN        NaN            Sedan   \n3  SALRR2RV0L2433391      37.6 in  NaN        NaN        NaN  SUV / Crossover   \n4  SALCJ2FXXLH862327      38.1 in  NaN        NaN        NaN  SUV / Crossover   \n\n  cabin      city  city_fuel_economy  combine_fuel_economy  ...  transmission  \\\n0   NaN   Bayamon                NaN                   NaN  ...             A   \n1   NaN  San Juan                NaN                   NaN  ...             A   \n2   NaN  Guaynabo               17.0                   NaN  ...             M   \n3   NaN  San Juan                NaN                   NaN  ...             A   \n4   NaN  San Juan                NaN                   NaN  ...             A   \n\n          transmission_display  trimId     trim_name  vehicle_damage_category  \\\n0  9-Speed Automatic Overdrive  t83804  Latitude FWD                      NaN   \n1  9-Speed Automatic Overdrive  t86759         S AWD                      NaN   \n2               6-Speed Manual  t58994          Base                      NaN   \n3  8-Speed Automatic Overdrive  t86074    V6 HSE AWD                      NaN   \n4  9-Speed Automatic Overdrive  t86759         S AWD                      NaN   \n\n  wheel_system wheel_system_display wheelbase    width  year  \n0          FWD    Front-Wheel Drive  101.2 in  79.6 in  2019  \n1          AWD      All-Wheel Drive  107.9 in  85.6 in  2020  \n2          AWD      All-Wheel Drive  104.3 in  78.9 in  2016  \n3          AWD      All-Wheel Drive    115 in  87.4 in  2020  \n4          AWD      All-Wheel Drive  107.9 in  85.6 in  2020  \n\n[5 rows x 66 columns]",
      "text/html": "<div>\n<style scoped>\n    .dataframe tbody tr th:only-of-type {\n        vertical-align: middle;\n    }\n\n    .dataframe tbody tr th {\n        vertical-align: top;\n    }\n\n    .dataframe thead th {\n        text-align: right;\n    }\n</style>\n<table border=\"1\" class=\"dataframe\">\n  <thead>\n    <tr style=\"text-align: right;\">\n      <th></th>\n      <th>vin</th>\n      <th>back_legroom</th>\n      <th>bed</th>\n      <th>bed_height</th>\n      <th>bed_length</th>\n      <th>body_type</th>\n      <th>cabin</th>\n      <th>city</th>\n      <th>city_fuel_economy</th>\n      <th>combine_fuel_economy</th>\n      <th>...</th>\n      <th>transmission</th>\n      <th>transmission_display</th>\n      <th>trimId</th>\n      <th>trim_name</th>\n      <th>vehicle_damage_category</th>\n      <th>wheel_system</th>\n      <th>wheel_system_display</th>\n      <th>wheelbase</th>\n      <th>width</th>\n      <th>year</th>\n    </tr>\n  </thead>\n  <tbody>\n    <tr>\n      <th>0</th>\n      <td>ZACNJABB5KPJ92081</td>\n      <td>35.1 in</td>\n      <td>NaN</td>\n      <td>NaN</td>\n      <td>NaN</td>\n      <td>SUV / Crossover</td>\n      <td>NaN</td>\n      <td>Bayamon</td>\n      <td>NaN</td>\n      <td>NaN</td>\n      <td>...</td>\n      <td>A</td>\n      <td>9-Speed Automatic Overdrive</td>\n      <td>t83804</td>\n      <td>Latitude FWD</td>\n      <td>NaN</td>\n      <td>FWD</td>\n      <td>Front-Wheel Drive</td>\n      <td>101.2 in</td>\n      <td>79.6 in</td>\n      <td>2019</td>\n    </tr>\n    <tr>\n      <th>1</th>\n      <td>SALCJ2FX1LH858117</td>\n      <td>38.1 in</td>\n      <td>NaN</td>\n      <td>NaN</td>\n      <td>NaN</td>\n      <td>SUV / Crossover</td>\n      <td>NaN</td>\n      <td>San Juan</td>\n      <td>NaN</td>\n      <td>NaN</td>\n      <td>...</td>\n      <td>A</td>\n      <td>9-Speed Automatic Overdrive</td>\n      <td>t86759</td>\n      <td>S AWD</td>\n      <td>NaN</td>\n      <td>AWD</td>\n      <td>All-Wheel Drive</td>\n      <td>107.9 in</td>\n      <td>85.6 in</td>\n      <td>2020</td>\n    </tr>\n    <tr>\n      <th>2</th>\n      <td>JF1VA2M67G9829723</td>\n      <td>35.4 in</td>\n      <td>NaN</td>\n      <td>NaN</td>\n      <td>NaN</td>\n      <td>Sedan</td>\n      <td>NaN</td>\n      <td>Guaynabo</td>\n      <td>17.0</td>\n      <td>NaN</td>\n      <td>...</td>\n      <td>M</td>\n      <td>6-Speed Manual</td>\n      <td>t58994</td>\n      <td>Base</td>\n      <td>NaN</td>\n      <td>AWD</td>\n      <td>All-Wheel Drive</td>\n      <td>104.3 in</td>\n      <td>78.9 in</td>\n      <td>2016</td>\n    </tr>\n    <tr>\n      <th>3</th>\n      <td>SALRR2RV0L2433391</td>\n      <td>37.6 in</td>\n      <td>NaN</td>\n      <td>NaN</td>\n      <td>NaN</td>\n      <td>SUV / Crossover</td>\n      <td>NaN</td>\n      <td>San Juan</td>\n      <td>NaN</td>\n      <td>NaN</td>\n      <td>...</td>\n      <td>A</td>\n      <td>8-Speed Automatic Overdrive</td>\n      <td>t86074</td>\n      <td>V6 HSE AWD</td>\n      <td>NaN</td>\n      <td>AWD</td>\n      <td>All-Wheel Drive</td>\n      <td>115 in</td>\n      <td>87.4 in</td>\n      <td>2020</td>\n    </tr>\n    <tr>\n      <th>4</th>\n      <td>SALCJ2FXXLH862327</td>\n      <td>38.1 in</td>\n      <td>NaN</td>\n      <td>NaN</td>\n      <td>NaN</td>\n      <td>SUV / Crossover</td>\n      <td>NaN</td>\n      <td>San Juan</td>\n      <td>NaN</td>\n      <td>NaN</td>\n      <td>...</td>\n      <td>A</td>\n      <td>9-Speed Automatic Overdrive</td>\n      <td>t86759</td>\n      <td>S AWD</td>\n      <td>NaN</td>\n      <td>AWD</td>\n      <td>All-Wheel Drive</td>\n      <td>107.9 in</td>\n      <td>85.6 in</td>\n      <td>2020</td>\n    </tr>\n  </tbody>\n</table>\n<p>5 rows × 66 columns</p>\n</div>"
     },
     "execution_count": 39,
     "metadata": {},
     "output_type": "execute_result"
    }
   ],
   "source": [
    "df.head()"
   ]
  },
  {
   "cell_type": "code",
   "execution_count": 184,
   "outputs": [],
   "source": [
    "test = df.head(50000, npartitions=10)\n",
    "my_df = pd.DataFrame(test)"
   ],
   "metadata": {
    "collapsed": false,
    "ExecuteTime": {
     "end_time": "2023-08-04T01:44:12.359774Z",
     "start_time": "2023-08-04T01:43:49.561578Z"
    }
   }
  },
  {
   "cell_type": "code",
   "execution_count": 185,
   "outputs": [
    {
     "name": "stdout",
     "output_type": "stream",
     "text": [
      "<class 'pandas.core.frame.DataFrame'>\n",
      "Int64Index: 50000 entries, 0 to 14851\n",
      "Data columns (total 66 columns):\n",
      " #   Column                   Non-Null Count  Dtype  \n",
      "---  ------                   --------------  -----  \n",
      " 0   vin                      50000 non-null  object \n",
      " 1   back_legroom             47503 non-null  object \n",
      " 2   bed                      424 non-null    object \n",
      " 3   bed_height               3432 non-null   object \n",
      " 4   bed_length               3432 non-null   object \n",
      " 5   body_type                49771 non-null  object \n",
      " 6   cabin                    676 non-null    object \n",
      " 7   city                     50000 non-null  object \n",
      " 8   city_fuel_economy        42557 non-null  float64\n",
      " 9   combine_fuel_economy     0 non-null      float64\n",
      " 10  daysonmarket             50000 non-null  int64  \n",
      " 11  dealer_zip               50000 non-null  object \n",
      " 12  description              47888 non-null  object \n",
      " 13  engine_cylinders         48564 non-null  object \n",
      " 14  engine_displacement      47328 non-null  float64\n",
      " 15  engine_type              48564 non-null  object \n",
      " 16  exterior_color           50000 non-null  object \n",
      " 17  fleet                    30058 non-null  object \n",
      " 18  frame_damaged            30058 non-null  object \n",
      " 19  franchise_dealer         50000 non-null  bool   \n",
      " 20  franchise_make           34394 non-null  object \n",
      " 21  front_legroom            47503 non-null  object \n",
      " 22  fuel_tank_volume         47503 non-null  object \n",
      " 23  fuel_type                48765 non-null  object \n",
      " 24  has_accidents            30058 non-null  object \n",
      " 25  height                   47503 non-null  object \n",
      " 26  highway_fuel_economy     42557 non-null  float64\n",
      " 27  horsepower               47328 non-null  float64\n",
      " 28  interior_color           50000 non-null  object \n",
      " 29  isCab                    30058 non-null  object \n",
      " 30  is_certified             0 non-null      float64\n",
      " 31  is_cpo                   3980 non-null   float64\n",
      " 32  is_new                   50000 non-null  bool   \n",
      " 33  is_oemcpo                2863 non-null   float64\n",
      " 34  latitude                 50000 non-null  float64\n",
      " 35  length                   47503 non-null  object \n",
      " 36  listed_date              50000 non-null  object \n",
      " 37  listing_color            50000 non-null  object \n",
      " 38  listing_id               50000 non-null  int64  \n",
      " 39  longitude                50000 non-null  float64\n",
      " 40  main_picture_url         41616 non-null  object \n",
      " 41  major_options            46017 non-null  object \n",
      " 42  make_name                50000 non-null  object \n",
      " 43  maximum_seating          47503 non-null  object \n",
      " 44  mileage                  48171 non-null  float64\n",
      " 45  model_name               50000 non-null  object \n",
      " 46  owner_count              28688 non-null  float64\n",
      " 47  power                    42776 non-null  object \n",
      " 48  price                    50000 non-null  float64\n",
      " 49  salvage                  30058 non-null  object \n",
      " 50  savings_amount           50000 non-null  int64  \n",
      " 51  seller_rating            49621 non-null  float64\n",
      " 52  sp_id                    50000 non-null  float64\n",
      " 53  sp_name                  50000 non-null  object \n",
      " 54  theft_title              30058 non-null  object \n",
      " 55  torque                   42216 non-null  object \n",
      " 56  transmission             49574 non-null  object \n",
      " 57  transmission_display     49574 non-null  object \n",
      " 58  trimId                   48059 non-null  object \n",
      " 59  trim_name                48046 non-null  object \n",
      " 60  vehicle_damage_category  0 non-null      float64\n",
      " 61  wheel_system             47660 non-null  object \n",
      " 62  wheel_system_display     47660 non-null  object \n",
      " 63  wheelbase                47503 non-null  object \n",
      " 64  width                    47503 non-null  object \n",
      " 65  year                     50000 non-null  int64  \n",
      "dtypes: bool(2), float64(16), int64(4), object(44)\n",
      "memory usage: 24.9+ MB\n"
     ]
    }
   ],
   "source": [
    "my_df.info()"
   ],
   "metadata": {
    "collapsed": false,
    "ExecuteTime": {
     "end_time": "2023-08-04T01:44:13.181443Z",
     "start_time": "2023-08-04T01:44:12.464295Z"
    }
   }
  },
  {
   "cell_type": "code",
   "execution_count": 186,
   "outputs": [
    {
     "data": {
      "text/plain": "Index(['vin', 'back_legroom', 'bed', 'bed_height', 'bed_length', 'body_type',\n       'cabin', 'city', 'city_fuel_economy', 'combine_fuel_economy',\n       'daysonmarket', 'dealer_zip', 'description', 'engine_cylinders',\n       'engine_displacement', 'engine_type', 'exterior_color', 'fleet',\n       'frame_damaged', 'franchise_dealer', 'franchise_make', 'front_legroom',\n       'fuel_tank_volume', 'fuel_type', 'has_accidents', 'height',\n       'highway_fuel_economy', 'horsepower', 'interior_color', 'isCab',\n       'is_certified', 'is_cpo', 'is_new', 'is_oemcpo', 'latitude', 'length',\n       'listed_date', 'listing_color', 'listing_id', 'longitude',\n       'main_picture_url', 'major_options', 'make_name', 'maximum_seating',\n       'mileage', 'model_name', 'owner_count', 'power', 'price', 'salvage',\n       'savings_amount', 'seller_rating', 'sp_id', 'sp_name', 'theft_title',\n       'torque', 'transmission', 'transmission_display', 'trimId', 'trim_name',\n       'vehicle_damage_category', 'wheel_system', 'wheel_system_display',\n       'wheelbase', 'width', 'year'],\n      dtype='object')"
     },
     "execution_count": 186,
     "metadata": {},
     "output_type": "execute_result"
    }
   ],
   "source": [
    "my_df.columns"
   ],
   "metadata": {
    "collapsed": false,
    "ExecuteTime": {
     "end_time": "2023-08-04T01:44:13.304744Z",
     "start_time": "2023-08-04T01:44:13.180180Z"
    }
   }
  },
  {
   "cell_type": "code",
   "execution_count": 187,
   "outputs": [],
   "source": [
    "columns_to_drop = ['savings_amount', 'width', 'description', 'engine_type', 'sp_id', 'listing_id',\n",
    "                   'power', 'torque', 'trimId', 'trim_name', 'vehicle_damage_category', 'major_options', 'main_picture_url', 'length', 'is_oemcpo', 'is_cpo', 'is_certified', 'height', 'front_legroom', 'fleet', 'combine_fuel_economy', 'cabin', 'bed_length', 'bed_height', 'bed', 'back_legroom', 'wheelbase']\n",
    "\n",
    "dropped_df = my_df.drop(columns=columns_to_drop, axis=1)"
   ],
   "metadata": {
    "collapsed": false,
    "ExecuteTime": {
     "end_time": "2023-08-04T01:44:13.322801Z",
     "start_time": "2023-08-04T01:44:13.233800Z"
    }
   }
  },
  {
   "cell_type": "code",
   "execution_count": 188,
   "outputs": [
    {
     "data": {
      "text/plain": "                 vin        body_type      city  city_fuel_economy  \\\n0  ZACNJABB5KPJ92081  SUV / Crossover   Bayamon                NaN   \n1  SALCJ2FX1LH858117  SUV / Crossover  San Juan                NaN   \n2  JF1VA2M67G9829723            Sedan  Guaynabo               17.0   \n3  SALRR2RV0L2433391  SUV / Crossover  San Juan                NaN   \n4  SALCJ2FXXLH862327  SUV / Crossover  San Juan                NaN   \n\n   daysonmarket dealer_zip engine_cylinders  engine_displacement  \\\n0           522      00960               I4               1300.0   \n1           207      00922               I4               2000.0   \n2          1233      00969               H4               2500.0   \n3           196      00922               V6               3000.0   \n4           137      00922               I4               2000.0   \n\n  exterior_color frame_damaged  ...    price salvage seller_rating  \\\n0   Solar Yellow           NaN  ...  23141.0     NaN           2.8   \n1   Narvik Black           NaN  ...  46500.0     NaN           3.0   \n2           None         False  ...  46995.0   False           NaN   \n3     Eiger Gray           NaN  ...  67430.0     NaN           3.0   \n4   Narvik Black           NaN  ...  48880.0     NaN           3.0   \n\n               sp_name theft_title  transmission         transmission_display  \\\n0    Flagship Chrysler         NaN             A  9-Speed Automatic Overdrive   \n1  Land Rover San Juan         NaN             A  9-Speed Automatic Overdrive   \n2     FIAT de San Juan       False             M               6-Speed Manual   \n3  Land Rover San Juan         NaN             A  8-Speed Automatic Overdrive   \n4  Land Rover San Juan         NaN             A  9-Speed Automatic Overdrive   \n\n  wheel_system wheel_system_display  year  \n0          FWD    Front-Wheel Drive  2019  \n1          AWD      All-Wheel Drive  2020  \n2          AWD      All-Wheel Drive  2016  \n3          AWD      All-Wheel Drive  2020  \n4          AWD      All-Wheel Drive  2020  \n\n[5 rows x 39 columns]",
      "text/html": "<div>\n<style scoped>\n    .dataframe tbody tr th:only-of-type {\n        vertical-align: middle;\n    }\n\n    .dataframe tbody tr th {\n        vertical-align: top;\n    }\n\n    .dataframe thead th {\n        text-align: right;\n    }\n</style>\n<table border=\"1\" class=\"dataframe\">\n  <thead>\n    <tr style=\"text-align: right;\">\n      <th></th>\n      <th>vin</th>\n      <th>body_type</th>\n      <th>city</th>\n      <th>city_fuel_economy</th>\n      <th>daysonmarket</th>\n      <th>dealer_zip</th>\n      <th>engine_cylinders</th>\n      <th>engine_displacement</th>\n      <th>exterior_color</th>\n      <th>frame_damaged</th>\n      <th>...</th>\n      <th>price</th>\n      <th>salvage</th>\n      <th>seller_rating</th>\n      <th>sp_name</th>\n      <th>theft_title</th>\n      <th>transmission</th>\n      <th>transmission_display</th>\n      <th>wheel_system</th>\n      <th>wheel_system_display</th>\n      <th>year</th>\n    </tr>\n  </thead>\n  <tbody>\n    <tr>\n      <th>0</th>\n      <td>ZACNJABB5KPJ92081</td>\n      <td>SUV / Crossover</td>\n      <td>Bayamon</td>\n      <td>NaN</td>\n      <td>522</td>\n      <td>00960</td>\n      <td>I4</td>\n      <td>1300.0</td>\n      <td>Solar Yellow</td>\n      <td>NaN</td>\n      <td>...</td>\n      <td>23141.0</td>\n      <td>NaN</td>\n      <td>2.8</td>\n      <td>Flagship Chrysler</td>\n      <td>NaN</td>\n      <td>A</td>\n      <td>9-Speed Automatic Overdrive</td>\n      <td>FWD</td>\n      <td>Front-Wheel Drive</td>\n      <td>2019</td>\n    </tr>\n    <tr>\n      <th>1</th>\n      <td>SALCJ2FX1LH858117</td>\n      <td>SUV / Crossover</td>\n      <td>San Juan</td>\n      <td>NaN</td>\n      <td>207</td>\n      <td>00922</td>\n      <td>I4</td>\n      <td>2000.0</td>\n      <td>Narvik Black</td>\n      <td>NaN</td>\n      <td>...</td>\n      <td>46500.0</td>\n      <td>NaN</td>\n      <td>3.0</td>\n      <td>Land Rover San Juan</td>\n      <td>NaN</td>\n      <td>A</td>\n      <td>9-Speed Automatic Overdrive</td>\n      <td>AWD</td>\n      <td>All-Wheel Drive</td>\n      <td>2020</td>\n    </tr>\n    <tr>\n      <th>2</th>\n      <td>JF1VA2M67G9829723</td>\n      <td>Sedan</td>\n      <td>Guaynabo</td>\n      <td>17.0</td>\n      <td>1233</td>\n      <td>00969</td>\n      <td>H4</td>\n      <td>2500.0</td>\n      <td>None</td>\n      <td>False</td>\n      <td>...</td>\n      <td>46995.0</td>\n      <td>False</td>\n      <td>NaN</td>\n      <td>FIAT de San Juan</td>\n      <td>False</td>\n      <td>M</td>\n      <td>6-Speed Manual</td>\n      <td>AWD</td>\n      <td>All-Wheel Drive</td>\n      <td>2016</td>\n    </tr>\n    <tr>\n      <th>3</th>\n      <td>SALRR2RV0L2433391</td>\n      <td>SUV / Crossover</td>\n      <td>San Juan</td>\n      <td>NaN</td>\n      <td>196</td>\n      <td>00922</td>\n      <td>V6</td>\n      <td>3000.0</td>\n      <td>Eiger Gray</td>\n      <td>NaN</td>\n      <td>...</td>\n      <td>67430.0</td>\n      <td>NaN</td>\n      <td>3.0</td>\n      <td>Land Rover San Juan</td>\n      <td>NaN</td>\n      <td>A</td>\n      <td>8-Speed Automatic Overdrive</td>\n      <td>AWD</td>\n      <td>All-Wheel Drive</td>\n      <td>2020</td>\n    </tr>\n    <tr>\n      <th>4</th>\n      <td>SALCJ2FXXLH862327</td>\n      <td>SUV / Crossover</td>\n      <td>San Juan</td>\n      <td>NaN</td>\n      <td>137</td>\n      <td>00922</td>\n      <td>I4</td>\n      <td>2000.0</td>\n      <td>Narvik Black</td>\n      <td>NaN</td>\n      <td>...</td>\n      <td>48880.0</td>\n      <td>NaN</td>\n      <td>3.0</td>\n      <td>Land Rover San Juan</td>\n      <td>NaN</td>\n      <td>A</td>\n      <td>9-Speed Automatic Overdrive</td>\n      <td>AWD</td>\n      <td>All-Wheel Drive</td>\n      <td>2020</td>\n    </tr>\n  </tbody>\n</table>\n<p>5 rows × 39 columns</p>\n</div>"
     },
     "execution_count": 188,
     "metadata": {},
     "output_type": "execute_result"
    }
   ],
   "source": [
    "dask_dropped = df.drop(columns=columns_to_drop)\n",
    "dask_dropped.head()"
   ],
   "metadata": {
    "collapsed": false,
    "ExecuteTime": {
     "end_time": "2023-08-04T01:44:14.864432Z",
     "start_time": "2023-08-04T01:44:13.262367Z"
    }
   }
  },
  {
   "cell_type": "code",
   "execution_count": 189,
   "outputs": [
    {
     "name": "stdout",
     "output_type": "stream",
     "text": [
      "<class 'pandas.core.frame.DataFrame'>\n",
      "Int64Index: 50000 entries, 0 to 14851\n",
      "Data columns (total 39 columns):\n",
      " #   Column                Non-Null Count  Dtype  \n",
      "---  ------                --------------  -----  \n",
      " 0   vin                   50000 non-null  object \n",
      " 1   body_type             49771 non-null  object \n",
      " 2   city                  50000 non-null  object \n",
      " 3   city_fuel_economy     42557 non-null  float64\n",
      " 4   daysonmarket          50000 non-null  int64  \n",
      " 5   dealer_zip            50000 non-null  object \n",
      " 6   engine_cylinders      48564 non-null  object \n",
      " 7   engine_displacement   47328 non-null  float64\n",
      " 8   exterior_color        50000 non-null  object \n",
      " 9   frame_damaged         30058 non-null  object \n",
      " 10  franchise_dealer      50000 non-null  bool   \n",
      " 11  franchise_make        34394 non-null  object \n",
      " 12  fuel_tank_volume      47503 non-null  object \n",
      " 13  fuel_type             48765 non-null  object \n",
      " 14  has_accidents         30058 non-null  object \n",
      " 15  highway_fuel_economy  42557 non-null  float64\n",
      " 16  horsepower            47328 non-null  float64\n",
      " 17  interior_color        50000 non-null  object \n",
      " 18  isCab                 30058 non-null  object \n",
      " 19  is_new                50000 non-null  bool   \n",
      " 20  latitude              50000 non-null  float64\n",
      " 21  listed_date           50000 non-null  object \n",
      " 22  listing_color         50000 non-null  object \n",
      " 23  longitude             50000 non-null  float64\n",
      " 24  make_name             50000 non-null  object \n",
      " 25  maximum_seating       47503 non-null  object \n",
      " 26  mileage               48171 non-null  float64\n",
      " 27  model_name            50000 non-null  object \n",
      " 28  owner_count           28688 non-null  float64\n",
      " 29  price                 50000 non-null  float64\n",
      " 30  salvage               30058 non-null  object \n",
      " 31  seller_rating         49621 non-null  float64\n",
      " 32  sp_name               50000 non-null  object \n",
      " 33  theft_title           30058 non-null  object \n",
      " 34  transmission          49574 non-null  object \n",
      " 35  transmission_display  49574 non-null  object \n",
      " 36  wheel_system          47660 non-null  object \n",
      " 37  wheel_system_display  47660 non-null  object \n",
      " 38  year                  50000 non-null  int64  \n",
      "dtypes: bool(2), float64(10), int64(2), object(25)\n",
      "memory usage: 14.6+ MB\n"
     ]
    }
   ],
   "source": [
    "dropped_df.info()"
   ],
   "metadata": {
    "collapsed": false,
    "ExecuteTime": {
     "end_time": "2023-08-04T01:44:15.600902Z",
     "start_time": "2023-08-04T01:44:14.868183Z"
    }
   }
  },
  {
   "cell_type": "code",
   "execution_count": 190,
   "outputs": [],
   "source": [
    "dropped_df.owner_count = dropped_df.owner_count.fillna(0.0)\n",
    "dask_dropped.owner_count = dask_dropped.owner_count.fillna(0.0)"
   ],
   "metadata": {
    "collapsed": false,
    "ExecuteTime": {
     "end_time": "2023-08-04T01:44:15.686045Z",
     "start_time": "2023-08-04T01:44:15.555394Z"
    }
   }
  },
  {
   "cell_type": "code",
   "execution_count": 191,
   "outputs": [],
   "source": [
    "dropped_df.theft_title = dropped_df.theft_title.fillna(False)\n",
    "dask_dropped.theft_title = dask_dropped.theft_title.fillna(False)"
   ],
   "metadata": {
    "collapsed": false,
    "ExecuteTime": {
     "end_time": "2023-08-04T01:44:15.734504Z",
     "start_time": "2023-08-04T01:44:15.638443Z"
    }
   }
  },
  {
   "cell_type": "code",
   "execution_count": 192,
   "outputs": [],
   "source": [
    "dropped_df.seller_rating = dropped_df.seller_rating.fillna(0.000000)\n",
    "dask_dropped.seller_rating = dask_dropped.seller_rating.fillna(0.000000)"
   ],
   "metadata": {
    "collapsed": false,
    "ExecuteTime": {
     "end_time": "2023-08-04T01:44:15.747702Z",
     "start_time": "2023-08-04T01:44:15.687457Z"
    }
   }
  },
  {
   "cell_type": "code",
   "execution_count": 199,
   "outputs": [],
   "source": [
    "dropped_df = dropped_df.dropna(subset=['mileage'])\n",
    "dask_dropped = dask_dropped.dropna(subset=['mileage'])"
   ],
   "metadata": {
    "collapsed": false,
    "ExecuteTime": {
     "end_time": "2023-08-04T01:47:02.792284Z",
     "start_time": "2023-08-04T01:47:02.701277Z"
    }
   }
  },
  {
   "cell_type": "code",
   "execution_count": 202,
   "outputs": [],
   "source": [
    "dropped_df = dropped_df.salvage.fillna(False)\n",
    "dask_dropped = dask_dropped.fillna(False)"
   ],
   "metadata": {
    "collapsed": false,
    "ExecuteTime": {
     "end_time": "2023-08-04T01:48:33.996154Z",
     "start_time": "2023-08-04T01:48:33.943707Z"
    }
   }
  },
  {
   "cell_type": "code",
   "execution_count": null,
   "outputs": [],
   "source": [],
   "metadata": {
    "collapsed": false
   }
  }
 ],
 "metadata": {
  "kernelspec": {
   "display_name": "Python 3 (ipykernel)",
   "language": "python",
   "name": "python3"
  },
  "language_info": {
   "codemirror_mode": {
    "name": "ipython",
    "version": 2
   },
   "file_extension": ".py",
   "mimetype": "text/x-python",
   "name": "python",
   "nbconvert_exporter": "python",
   "pygments_lexer": "ipython2",
   "version": "2.7.6"
  }
 },
 "nbformat": 4,
 "nbformat_minor": 1
}
