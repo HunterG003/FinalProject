{
 "cells": [
  {
   "cell_type": "code",
   "execution_count": 41,
   "metadata": {
    "ExecuteTime": {
     "end_time": "2023-08-04T00:45:19.539462Z",
     "start_time": "2023-08-04T00:45:19.416304Z"
    }
   },
   "outputs": [],
   "source": [
    "import dask.dataframe as dd\n",
    "import pandas as pd\n",
    "\n",
    "df = dd.read_csv(\"./Data/used_cars_data.csv\", dtype={'bed': 'object',\n",
    "       'bed_height': 'object',\n",
    "       'bed_length': 'object',\n",
    "       'cabin': 'object',\n",
    "       'sp_id' : 'float64',\n",
    "       'dealer_zip' : 'object'})\n"
   ]
  },
  {
   "cell_type": "code",
   "execution_count": 39,
   "metadata": {
    "ExecuteTime": {
     "end_time": "2023-08-04T00:44:25.047535Z",
     "start_time": "2023-08-04T00:44:22.000435Z"
    }
   },
   "outputs": [
    {
     "data": {
      "text/plain": "                 vin back_legroom  bed bed_height bed_length        body_type  \\\n0  ZACNJABB5KPJ92081      35.1 in  NaN        NaN        NaN  SUV / Crossover   \n1  SALCJ2FX1LH858117      38.1 in  NaN        NaN        NaN  SUV / Crossover   \n2  JF1VA2M67G9829723      35.4 in  NaN        NaN        NaN            Sedan   \n3  SALRR2RV0L2433391      37.6 in  NaN        NaN        NaN  SUV / Crossover   \n4  SALCJ2FXXLH862327      38.1 in  NaN        NaN        NaN  SUV / Crossover   \n\n  cabin      city  city_fuel_economy  combine_fuel_economy  ...  transmission  \\\n0   NaN   Bayamon                NaN                   NaN  ...             A   \n1   NaN  San Juan                NaN                   NaN  ...             A   \n2   NaN  Guaynabo               17.0                   NaN  ...             M   \n3   NaN  San Juan                NaN                   NaN  ...             A   \n4   NaN  San Juan                NaN                   NaN  ...             A   \n\n          transmission_display  trimId     trim_name  vehicle_damage_category  \\\n0  9-Speed Automatic Overdrive  t83804  Latitude FWD                      NaN   \n1  9-Speed Automatic Overdrive  t86759         S AWD                      NaN   \n2               6-Speed Manual  t58994          Base                      NaN   \n3  8-Speed Automatic Overdrive  t86074    V6 HSE AWD                      NaN   \n4  9-Speed Automatic Overdrive  t86759         S AWD                      NaN   \n\n  wheel_system wheel_system_display wheelbase    width  year  \n0          FWD    Front-Wheel Drive  101.2 in  79.6 in  2019  \n1          AWD      All-Wheel Drive  107.9 in  85.6 in  2020  \n2          AWD      All-Wheel Drive  104.3 in  78.9 in  2016  \n3          AWD      All-Wheel Drive    115 in  87.4 in  2020  \n4          AWD      All-Wheel Drive  107.9 in  85.6 in  2020  \n\n[5 rows x 66 columns]",
      "text/html": "<div>\n<style scoped>\n    .dataframe tbody tr th:only-of-type {\n        vertical-align: middle;\n    }\n\n    .dataframe tbody tr th {\n        vertical-align: top;\n    }\n\n    .dataframe thead th {\n        text-align: right;\n    }\n</style>\n<table border=\"1\" class=\"dataframe\">\n  <thead>\n    <tr style=\"text-align: right;\">\n      <th></th>\n      <th>vin</th>\n      <th>back_legroom</th>\n      <th>bed</th>\n      <th>bed_height</th>\n      <th>bed_length</th>\n      <th>body_type</th>\n      <th>cabin</th>\n      <th>city</th>\n      <th>city_fuel_economy</th>\n      <th>combine_fuel_economy</th>\n      <th>...</th>\n      <th>transmission</th>\n      <th>transmission_display</th>\n      <th>trimId</th>\n      <th>trim_name</th>\n      <th>vehicle_damage_category</th>\n      <th>wheel_system</th>\n      <th>wheel_system_display</th>\n      <th>wheelbase</th>\n      <th>width</th>\n      <th>year</th>\n    </tr>\n  </thead>\n  <tbody>\n    <tr>\n      <th>0</th>\n      <td>ZACNJABB5KPJ92081</td>\n      <td>35.1 in</td>\n      <td>NaN</td>\n      <td>NaN</td>\n      <td>NaN</td>\n      <td>SUV / Crossover</td>\n      <td>NaN</td>\n      <td>Bayamon</td>\n      <td>NaN</td>\n      <td>NaN</td>\n      <td>...</td>\n      <td>A</td>\n      <td>9-Speed Automatic Overdrive</td>\n      <td>t83804</td>\n      <td>Latitude FWD</td>\n      <td>NaN</td>\n      <td>FWD</td>\n      <td>Front-Wheel Drive</td>\n      <td>101.2 in</td>\n      <td>79.6 in</td>\n      <td>2019</td>\n    </tr>\n    <tr>\n      <th>1</th>\n      <td>SALCJ2FX1LH858117</td>\n      <td>38.1 in</td>\n      <td>NaN</td>\n      <td>NaN</td>\n      <td>NaN</td>\n      <td>SUV / Crossover</td>\n      <td>NaN</td>\n      <td>San Juan</td>\n      <td>NaN</td>\n      <td>NaN</td>\n      <td>...</td>\n      <td>A</td>\n      <td>9-Speed Automatic Overdrive</td>\n      <td>t86759</td>\n      <td>S AWD</td>\n      <td>NaN</td>\n      <td>AWD</td>\n      <td>All-Wheel Drive</td>\n      <td>107.9 in</td>\n      <td>85.6 in</td>\n      <td>2020</td>\n    </tr>\n    <tr>\n      <th>2</th>\n      <td>JF1VA2M67G9829723</td>\n      <td>35.4 in</td>\n      <td>NaN</td>\n      <td>NaN</td>\n      <td>NaN</td>\n      <td>Sedan</td>\n      <td>NaN</td>\n      <td>Guaynabo</td>\n      <td>17.0</td>\n      <td>NaN</td>\n      <td>...</td>\n      <td>M</td>\n      <td>6-Speed Manual</td>\n      <td>t58994</td>\n      <td>Base</td>\n      <td>NaN</td>\n      <td>AWD</td>\n      <td>All-Wheel Drive</td>\n      <td>104.3 in</td>\n      <td>78.9 in</td>\n      <td>2016</td>\n    </tr>\n    <tr>\n      <th>3</th>\n      <td>SALRR2RV0L2433391</td>\n      <td>37.6 in</td>\n      <td>NaN</td>\n      <td>NaN</td>\n      <td>NaN</td>\n      <td>SUV / Crossover</td>\n      <td>NaN</td>\n      <td>San Juan</td>\n      <td>NaN</td>\n      <td>NaN</td>\n      <td>...</td>\n      <td>A</td>\n      <td>8-Speed Automatic Overdrive</td>\n      <td>t86074</td>\n      <td>V6 HSE AWD</td>\n      <td>NaN</td>\n      <td>AWD</td>\n      <td>All-Wheel Drive</td>\n      <td>115 in</td>\n      <td>87.4 in</td>\n      <td>2020</td>\n    </tr>\n    <tr>\n      <th>4</th>\n      <td>SALCJ2FXXLH862327</td>\n      <td>38.1 in</td>\n      <td>NaN</td>\n      <td>NaN</td>\n      <td>NaN</td>\n      <td>SUV / Crossover</td>\n      <td>NaN</td>\n      <td>San Juan</td>\n      <td>NaN</td>\n      <td>NaN</td>\n      <td>...</td>\n      <td>A</td>\n      <td>9-Speed Automatic Overdrive</td>\n      <td>t86759</td>\n      <td>S AWD</td>\n      <td>NaN</td>\n      <td>AWD</td>\n      <td>All-Wheel Drive</td>\n      <td>107.9 in</td>\n      <td>85.6 in</td>\n      <td>2020</td>\n    </tr>\n  </tbody>\n</table>\n<p>5 rows × 66 columns</p>\n</div>"
     },
     "execution_count": 39,
     "metadata": {},
     "output_type": "execute_result"
    }
   ],
   "source": [
    "df.head()"
   ]
  },
  {
   "cell_type": "code",
   "execution_count": 122,
   "outputs": [],
   "source": [
    "test = df.head(50000, npartitions=10)\n",
    "my_df = pd.DataFrame(test)"
   ],
   "metadata": {
    "collapsed": false,
    "ExecuteTime": {
     "end_time": "2023-08-04T01:24:57.882197Z",
     "start_time": "2023-08-04T01:24:33.684052Z"
    }
   }
  },
  {
   "cell_type": "code",
   "execution_count": 45,
   "outputs": [
    {
     "name": "stdout",
     "output_type": "stream",
     "text": [
      "<class 'pandas.core.frame.DataFrame'>\n",
      "Int64Index: 50000 entries, 0 to 14851\n",
      "Data columns (total 66 columns):\n",
      " #   Column                   Non-Null Count  Dtype  \n",
      "---  ------                   --------------  -----  \n",
      " 0   vin                      50000 non-null  object \n",
      " 1   back_legroom             47503 non-null  object \n",
      " 2   bed                      424 non-null    object \n",
      " 3   bed_height               3432 non-null   object \n",
      " 4   bed_length               3432 non-null   object \n",
      " 5   body_type                49771 non-null  object \n",
      " 6   cabin                    676 non-null    object \n",
      " 7   city                     50000 non-null  object \n",
      " 8   city_fuel_economy        42557 non-null  float64\n",
      " 9   combine_fuel_economy     0 non-null      float64\n",
      " 10  daysonmarket             50000 non-null  int64  \n",
      " 11  dealer_zip               50000 non-null  object \n",
      " 12  description              47888 non-null  object \n",
      " 13  engine_cylinders         48564 non-null  object \n",
      " 14  engine_displacement      47328 non-null  float64\n",
      " 15  engine_type              48564 non-null  object \n",
      " 16  exterior_color           50000 non-null  object \n",
      " 17  fleet                    30058 non-null  object \n",
      " 18  frame_damaged            30058 non-null  object \n",
      " 19  franchise_dealer         50000 non-null  bool   \n",
      " 20  franchise_make           34394 non-null  object \n",
      " 21  front_legroom            47503 non-null  object \n",
      " 22  fuel_tank_volume         47503 non-null  object \n",
      " 23  fuel_type                48765 non-null  object \n",
      " 24  has_accidents            30058 non-null  object \n",
      " 25  height                   47503 non-null  object \n",
      " 26  highway_fuel_economy     42557 non-null  float64\n",
      " 27  horsepower               47328 non-null  float64\n",
      " 28  interior_color           50000 non-null  object \n",
      " 29  isCab                    30058 non-null  object \n",
      " 30  is_certified             0 non-null      float64\n",
      " 31  is_cpo                   3980 non-null   float64\n",
      " 32  is_new                   50000 non-null  bool   \n",
      " 33  is_oemcpo                2863 non-null   float64\n",
      " 34  latitude                 50000 non-null  float64\n",
      " 35  length                   47503 non-null  object \n",
      " 36  listed_date              50000 non-null  object \n",
      " 37  listing_color            50000 non-null  object \n",
      " 38  listing_id               50000 non-null  int64  \n",
      " 39  longitude                50000 non-null  float64\n",
      " 40  main_picture_url         41616 non-null  object \n",
      " 41  major_options            46017 non-null  object \n",
      " 42  make_name                50000 non-null  object \n",
      " 43  maximum_seating          47503 non-null  object \n",
      " 44  mileage                  48171 non-null  float64\n",
      " 45  model_name               50000 non-null  object \n",
      " 46  owner_count              28688 non-null  float64\n",
      " 47  power                    42776 non-null  object \n",
      " 48  price                    50000 non-null  float64\n",
      " 49  salvage                  30058 non-null  object \n",
      " 50  savings_amount           50000 non-null  int64  \n",
      " 51  seller_rating            49621 non-null  float64\n",
      " 52  sp_id                    50000 non-null  float64\n",
      " 53  sp_name                  50000 non-null  object \n",
      " 54  theft_title              30058 non-null  object \n",
      " 55  torque                   42216 non-null  object \n",
      " 56  transmission             49574 non-null  object \n",
      " 57  transmission_display     49574 non-null  object \n",
      " 58  trimId                   48059 non-null  object \n",
      " 59  trim_name                48046 non-null  object \n",
      " 60  vehicle_damage_category  0 non-null      float64\n",
      " 61  wheel_system             47660 non-null  object \n",
      " 62  wheel_system_display     47660 non-null  object \n",
      " 63  wheelbase                47503 non-null  object \n",
      " 64  width                    47503 non-null  object \n",
      " 65  year                     50000 non-null  int64  \n",
      "dtypes: bool(2), float64(16), int64(4), object(44)\n",
      "memory usage: 24.9+ MB\n"
     ]
    }
   ],
   "source": [
    "my_df.info()"
   ],
   "metadata": {
    "collapsed": false,
    "ExecuteTime": {
     "end_time": "2023-08-04T00:46:56.896556Z",
     "start_time": "2023-08-04T00:46:55.500108Z"
    }
   }
  },
  {
   "cell_type": "code",
   "execution_count": 46,
   "outputs": [
    {
     "data": {
      "text/plain": "Index(['vin', 'back_legroom', 'bed', 'bed_height', 'bed_length', 'body_type',\n       'cabin', 'city', 'city_fuel_economy', 'combine_fuel_economy',\n       'daysonmarket', 'dealer_zip', 'description', 'engine_cylinders',\n       'engine_displacement', 'engine_type', 'exterior_color', 'fleet',\n       'frame_damaged', 'franchise_dealer', 'franchise_make', 'front_legroom',\n       'fuel_tank_volume', 'fuel_type', 'has_accidents', 'height',\n       'highway_fuel_economy', 'horsepower', 'interior_color', 'isCab',\n       'is_certified', 'is_cpo', 'is_new', 'is_oemcpo', 'latitude', 'length',\n       'listed_date', 'listing_color', 'listing_id', 'longitude',\n       'main_picture_url', 'major_options', 'make_name', 'maximum_seating',\n       'mileage', 'model_name', 'owner_count', 'power', 'price', 'salvage',\n       'savings_amount', 'seller_rating', 'sp_id', 'sp_name', 'theft_title',\n       'torque', 'transmission', 'transmission_display', 'trimId', 'trim_name',\n       'vehicle_damage_category', 'wheel_system', 'wheel_system_display',\n       'wheelbase', 'width', 'year'],\n      dtype='object')"
     },
     "execution_count": 46,
     "metadata": {},
     "output_type": "execute_result"
    }
   ],
   "source": [
    "my_df.columns"
   ],
   "metadata": {
    "collapsed": false,
    "ExecuteTime": {
     "end_time": "2023-08-04T00:47:38.177671Z",
     "start_time": "2023-08-04T00:47:38.153522Z"
    }
   }
  },
  {
   "cell_type": "code",
   "execution_count": 123,
   "outputs": [],
   "source": [
    "columns_to_drop = ['savings_amount', 'width', 'vin', 'description', 'engine_type', 'sp_id', 'listing_id',\n",
    "                   'power', 'torque', 'trimId', 'trim_name', 'vehicle_damage_category', 'major_options', 'main_picture_url', 'length', 'is_oemcpo', 'is_cpo', 'is_certified', 'height', 'front_legroom', 'fleet', 'combine_fuel_economy', 'cabin', 'bed_length', 'bed_height', 'bed', 'back_legroom']\n",
    "\n",
    "dropped_df = my_df.drop(columns=columns_to_drop, axis=1)"
   ],
   "metadata": {
    "collapsed": false,
    "ExecuteTime": {
     "end_time": "2023-08-04T01:25:04.540650Z",
     "start_time": "2023-08-04T01:25:04.496914Z"
    }
   }
  },
  {
   "cell_type": "code",
   "execution_count": 116,
   "outputs": [
    {
     "data": {
      "text/plain": "         body_type      city  city_fuel_economy  daysonmarket dealer_zip  \\\n0  SUV / Crossover   Bayamon                NaN           522      00960   \n1  SUV / Crossover  San Juan                NaN           207      00922   \n2            Sedan  Guaynabo               17.0          1233      00969   \n3  SUV / Crossover  San Juan                NaN           196      00922   \n4  SUV / Crossover  San Juan                NaN           137      00922   \n\n  engine_cylinders  engine_displacement exterior_color frame_damaged  \\\n0               I4               1300.0   Solar Yellow           NaN   \n1               I4               2000.0   Narvik Black           NaN   \n2               H4               2500.0           None         False   \n3               V6               3000.0     Eiger Gray           NaN   \n4               I4               2000.0   Narvik Black           NaN   \n\n   franchise_dealer  ... salvage seller_rating              sp_name  \\\n0              True  ...     NaN           2.8    Flagship Chrysler   \n1              True  ...     NaN           3.0  Land Rover San Juan   \n2              True  ...   False           NaN     FIAT de San Juan   \n3              True  ...     NaN           3.0  Land Rover San Juan   \n4              True  ...     NaN           3.0  Land Rover San Juan   \n\n  theft_title  transmission         transmission_display wheel_system  \\\n0         NaN             A  9-Speed Automatic Overdrive          FWD   \n1         NaN             A  9-Speed Automatic Overdrive          AWD   \n2       False             M               6-Speed Manual          AWD   \n3         NaN             A  8-Speed Automatic Overdrive          AWD   \n4         NaN             A  9-Speed Automatic Overdrive          AWD   \n\n  wheel_system_display  wheelbase  year  \n0    Front-Wheel Drive   101.2 in  2019  \n1      All-Wheel Drive   107.9 in  2020  \n2      All-Wheel Drive   104.3 in  2016  \n3      All-Wheel Drive     115 in  2020  \n4      All-Wheel Drive   107.9 in  2020  \n\n[5 rows x 39 columns]",
      "text/html": "<div>\n<style scoped>\n    .dataframe tbody tr th:only-of-type {\n        vertical-align: middle;\n    }\n\n    .dataframe tbody tr th {\n        vertical-align: top;\n    }\n\n    .dataframe thead th {\n        text-align: right;\n    }\n</style>\n<table border=\"1\" class=\"dataframe\">\n  <thead>\n    <tr style=\"text-align: right;\">\n      <th></th>\n      <th>body_type</th>\n      <th>city</th>\n      <th>city_fuel_economy</th>\n      <th>daysonmarket</th>\n      <th>dealer_zip</th>\n      <th>engine_cylinders</th>\n      <th>engine_displacement</th>\n      <th>exterior_color</th>\n      <th>frame_damaged</th>\n      <th>franchise_dealer</th>\n      <th>...</th>\n      <th>salvage</th>\n      <th>seller_rating</th>\n      <th>sp_name</th>\n      <th>theft_title</th>\n      <th>transmission</th>\n      <th>transmission_display</th>\n      <th>wheel_system</th>\n      <th>wheel_system_display</th>\n      <th>wheelbase</th>\n      <th>year</th>\n    </tr>\n  </thead>\n  <tbody>\n    <tr>\n      <th>0</th>\n      <td>SUV / Crossover</td>\n      <td>Bayamon</td>\n      <td>NaN</td>\n      <td>522</td>\n      <td>00960</td>\n      <td>I4</td>\n      <td>1300.0</td>\n      <td>Solar Yellow</td>\n      <td>NaN</td>\n      <td>True</td>\n      <td>...</td>\n      <td>NaN</td>\n      <td>2.8</td>\n      <td>Flagship Chrysler</td>\n      <td>NaN</td>\n      <td>A</td>\n      <td>9-Speed Automatic Overdrive</td>\n      <td>FWD</td>\n      <td>Front-Wheel Drive</td>\n      <td>101.2 in</td>\n      <td>2019</td>\n    </tr>\n    <tr>\n      <th>1</th>\n      <td>SUV / Crossover</td>\n      <td>San Juan</td>\n      <td>NaN</td>\n      <td>207</td>\n      <td>00922</td>\n      <td>I4</td>\n      <td>2000.0</td>\n      <td>Narvik Black</td>\n      <td>NaN</td>\n      <td>True</td>\n      <td>...</td>\n      <td>NaN</td>\n      <td>3.0</td>\n      <td>Land Rover San Juan</td>\n      <td>NaN</td>\n      <td>A</td>\n      <td>9-Speed Automatic Overdrive</td>\n      <td>AWD</td>\n      <td>All-Wheel Drive</td>\n      <td>107.9 in</td>\n      <td>2020</td>\n    </tr>\n    <tr>\n      <th>2</th>\n      <td>Sedan</td>\n      <td>Guaynabo</td>\n      <td>17.0</td>\n      <td>1233</td>\n      <td>00969</td>\n      <td>H4</td>\n      <td>2500.0</td>\n      <td>None</td>\n      <td>False</td>\n      <td>True</td>\n      <td>...</td>\n      <td>False</td>\n      <td>NaN</td>\n      <td>FIAT de San Juan</td>\n      <td>False</td>\n      <td>M</td>\n      <td>6-Speed Manual</td>\n      <td>AWD</td>\n      <td>All-Wheel Drive</td>\n      <td>104.3 in</td>\n      <td>2016</td>\n    </tr>\n    <tr>\n      <th>3</th>\n      <td>SUV / Crossover</td>\n      <td>San Juan</td>\n      <td>NaN</td>\n      <td>196</td>\n      <td>00922</td>\n      <td>V6</td>\n      <td>3000.0</td>\n      <td>Eiger Gray</td>\n      <td>NaN</td>\n      <td>True</td>\n      <td>...</td>\n      <td>NaN</td>\n      <td>3.0</td>\n      <td>Land Rover San Juan</td>\n      <td>NaN</td>\n      <td>A</td>\n      <td>8-Speed Automatic Overdrive</td>\n      <td>AWD</td>\n      <td>All-Wheel Drive</td>\n      <td>115 in</td>\n      <td>2020</td>\n    </tr>\n    <tr>\n      <th>4</th>\n      <td>SUV / Crossover</td>\n      <td>San Juan</td>\n      <td>NaN</td>\n      <td>137</td>\n      <td>00922</td>\n      <td>I4</td>\n      <td>2000.0</td>\n      <td>Narvik Black</td>\n      <td>NaN</td>\n      <td>True</td>\n      <td>...</td>\n      <td>NaN</td>\n      <td>3.0</td>\n      <td>Land Rover San Juan</td>\n      <td>NaN</td>\n      <td>A</td>\n      <td>9-Speed Automatic Overdrive</td>\n      <td>AWD</td>\n      <td>All-Wheel Drive</td>\n      <td>107.9 in</td>\n      <td>2020</td>\n    </tr>\n  </tbody>\n</table>\n<p>5 rows × 39 columns</p>\n</div>"
     },
     "execution_count": 116,
     "metadata": {},
     "output_type": "execute_result"
    }
   ],
   "source": [
    "dask_dropped = df.drop(columns=columns_to_drop)\n",
    "dask_dropped.head()"
   ],
   "metadata": {
    "collapsed": false,
    "ExecuteTime": {
     "end_time": "2023-08-04T01:20:45.537772Z",
     "start_time": "2023-08-04T01:20:42.834284Z"
    }
   }
  },
  {
   "cell_type": "code",
   "execution_count": 112,
   "outputs": [
    {
     "name": "stdout",
     "output_type": "stream",
     "text": [
      "<class 'pandas.core.frame.DataFrame'>\n",
      "Int64Index: 50000 entries, 0 to 14851\n",
      "Data columns (total 39 columns):\n",
      " #   Column                Non-Null Count  Dtype  \n",
      "---  ------                --------------  -----  \n",
      " 0   body_type             49771 non-null  object \n",
      " 1   city                  50000 non-null  object \n",
      " 2   city_fuel_economy     42557 non-null  float64\n",
      " 3   daysonmarket          50000 non-null  int64  \n",
      " 4   dealer_zip            50000 non-null  object \n",
      " 5   engine_cylinders      48564 non-null  object \n",
      " 6   engine_displacement   47328 non-null  float64\n",
      " 7   exterior_color        50000 non-null  object \n",
      " 8   frame_damaged         30058 non-null  object \n",
      " 9   franchise_dealer      50000 non-null  bool   \n",
      " 10  franchise_make        34394 non-null  object \n",
      " 11  fuel_tank_volume      47503 non-null  object \n",
      " 12  fuel_type             48765 non-null  object \n",
      " 13  has_accidents         30058 non-null  object \n",
      " 14  highway_fuel_economy  42557 non-null  float64\n",
      " 15  horsepower            47328 non-null  float64\n",
      " 16  interior_color        50000 non-null  object \n",
      " 17  isCab                 30058 non-null  object \n",
      " 18  is_new                50000 non-null  bool   \n",
      " 19  latitude              50000 non-null  float64\n",
      " 20  listed_date           50000 non-null  object \n",
      " 21  listing_color         50000 non-null  object \n",
      " 22  longitude             50000 non-null  float64\n",
      " 23  make_name             50000 non-null  object \n",
      " 24  maximum_seating       47503 non-null  object \n",
      " 25  mileage               48171 non-null  float64\n",
      " 26  model_name            50000 non-null  object \n",
      " 27  owner_count           28688 non-null  float64\n",
      " 28  price                 50000 non-null  float64\n",
      " 29  salvage               30058 non-null  object \n",
      " 30  seller_rating         49621 non-null  float64\n",
      " 31  sp_name               50000 non-null  object \n",
      " 32  theft_title           30058 non-null  object \n",
      " 33  transmission          49574 non-null  object \n",
      " 34  transmission_display  49574 non-null  object \n",
      " 35  wheel_system          47660 non-null  object \n",
      " 36  wheel_system_display  47660 non-null  object \n",
      " 37  wheelbase             47503 non-null  object \n",
      " 38  year                  50000 non-null  int64  \n",
      "dtypes: bool(2), float64(10), int64(2), object(25)\n",
      "memory usage: 14.6+ MB\n"
     ]
    }
   ],
   "source": [
    "dropped_df.info()"
   ],
   "metadata": {
    "collapsed": false,
    "ExecuteTime": {
     "end_time": "2023-08-04T01:17:34.920904Z",
     "start_time": "2023-08-04T01:17:34.086353Z"
    }
   }
  },
  {
   "cell_type": "code",
   "execution_count": 125,
   "outputs": [],
   "source": [
    "dropped_df.owner_count = dropped_df.owner_count.fillna(0.0)"
   ],
   "metadata": {
    "collapsed": false,
    "ExecuteTime": {
     "end_time": "2023-08-04T01:25:14.960232Z",
     "start_time": "2023-08-04T01:25:14.929119Z"
    }
   }
  },
  {
   "cell_type": "code",
   "execution_count": null,
   "outputs": [],
   "source": [],
   "metadata": {
    "collapsed": false
   }
  }
 ],
 "metadata": {
  "kernelspec": {
   "display_name": "Python 3 (ipykernel)",
   "language": "python",
   "name": "python3"
  },
  "language_info": {
   "codemirror_mode": {
    "name": "ipython",
    "version": 2
   },
   "file_extension": ".py",
   "mimetype": "text/x-python",
   "name": "python",
   "nbconvert_exporter": "python",
   "pygments_lexer": "ipython2",
   "version": "2.7.6"
  }
 },
 "nbformat": 4,
 "nbformat_minor": 1
}
